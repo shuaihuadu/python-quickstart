{
 "cells": [
  {
   "cell_type": "code",
   "execution_count": 15,
   "metadata": {},
   "outputs": [
    {
     "name": "stdout",
     "output_type": "stream",
     "text": [
      "[Document(metadata={'Header 1': '项目文档'}, page_content='欢迎阅读本项目的文档。在这里，你将找到关于如何使用和贡献此项目的所有信息。  \\n| 序号 | 修改日期   | 修改内容           | 修改人 |\\n| ---- | ---------- | ------------------ | ------ |\\n| 1    | 2023-01-15 | 修复登录页面的错误 | 张伟   |\\n| 2    | 2023-02-20 | 增加用户注册功能   | 李娜   |\\n| 3    | 2023-03-05 | 优化首页加载速度   | 王强   |\\n| 4    | 2023-04-12 | 更新隐私政策       | 赵敏   |\\n| 5    | 2023-05-30 | 增加密码重置功能   | 周洋   |  \\n你可以根据实际情况进行修改或添加更多记录。如果有其他需求，请告诉我！'), Document(metadata={'Header 1': '项目文档', 'Header 2': '简介'}, page_content='这个项目旨在提供一个简单的解决方案，帮助用户快速实现他们的目标。'), Document(metadata={'Header 1': '项目文档', 'Header 2': '简介', 'Header 3': '功能'}, page_content='- 易于使用\\n- 高性能\\n- 可扩展'), Document(metadata={'Header 1': '项目文档', 'Header 2': '简介', 'Header 3': '功能', 'Header 4': '安装'}, page_content='要安装本项目，请运行以下命令：  \\n```bash\\ngit clone https://github.com/your-repo/your-project.git\\ncd your-project\\nnpm install\\n```'), Document(metadata={'Header 1': '项目文档', 'Header 2': '简介', 'Header 3': '功能', 'Header 4': '安装', 'Header 5': '使用'}, page_content='安装完成后，你可以使用以下命令启动项目：  \\n```bash\\nnpm start\\n```  \\n启动后，打开浏览器并访问 `http://localhost:3000`。'), Document(metadata={'Header 1': '项目文档', 'Header 2': '简介', 'Header 3': '功能', 'Header 4': '安装', 'Header 5': '使用', 'Header 6': '贡献'}, page_content='我们欢迎任何形式的贡献。请阅读以下指南来了解如何贡献：  \\n1. Fork 此仓库\\n2. 创建你的分支 (`git checkout -b feature/your-feature`)\\n3. 提交你的更改 (`git commit -am \\'Add some feature\\'`)\\n4. Push 到分支 (`git push origin feature/your-feature`)\\n5. 创建一个新的 Pull Request  \\n非常感谢你的贡献！  \\n```python\\ndef hello_world():\\nprint(\"Hello, world!\")\\n\\nif __name__ == \"__main__\":\\nhello_world()\\n```'), Document(metadata={'Header 1': '项目文档', 'Header 2': '简介', 'Header 3': '功能', 'Header 4': '安装', 'Header 5': '使用', 'Header 6': '联系方式'}, page_content='如果你有任何问题或建议，请通过以下方式联系我们：  \\n- Email: support@example.com\\n- GitHub Issues: [your-repo/issues](https://github.com/your-repo/your-project/issues)')]\n",
      "使用普通的文本切片\n"
     ]
    },
    {
     "data": {
      "text/plain": [
       "[Document(metadata={'Header 1': '项目文档'}, page_content='欢迎阅读本项目的文档。在这里，你将找到关于如何使用和贡献此项目的所有信息。  \\n| 序号 | 修改日期   | 修改内容           | 修改人 |'),\n",
       " Document(metadata={'Header 1': '项目文档'}, page_content='| ---- | ---------- | ------------------ | ------ |'),\n",
       " Document(metadata={'Header 1': '项目文档'}, page_content='| 1    | 2023-01-15 | 修复登录页面的错误 | 张伟   |'),\n",
       " Document(metadata={'Header 1': '项目文档'}, page_content='| 2    | 2023-02-20 | 增加用户注册功能   | 李娜   |'),\n",
       " Document(metadata={'Header 1': '项目文档'}, page_content='| 3    | 2023-03-05 | 优化首页加载速度   | 王强   |'),\n",
       " Document(metadata={'Header 1': '项目文档'}, page_content='| 4    | 2023-04-12 | 更新隐私政策       | 赵敏   |'),\n",
       " Document(metadata={'Header 1': '项目文档'}, page_content='| 5    | 2023-05-30 | 增加密码重置功能   | 周洋   |  \\n你可以根据实际情况进行修改或添加更多记录。如果有其他需求，请告诉我！'),\n",
       " Document(metadata={'Header 1': '项目文档', 'Header 2': '简介'}, page_content='这个项目旨在提供一个简单的解决方案，帮助用户快速实现他们的目标。'),\n",
       " Document(metadata={'Header 1': '项目文档', 'Header 2': '简介', 'Header 3': '功能'}, page_content='- 易于使用\\n- 高性能\\n- 可扩展'),\n",
       " Document(metadata={'Header 1': '项目文档', 'Header 2': '简介', 'Header 3': '功能', 'Header 4': '安装'}, page_content='要安装本项目，请运行以下命令：  \\n```bash'),\n",
       " Document(metadata={'Header 1': '项目文档', 'Header 2': '简介', 'Header 3': '功能', 'Header 4': '安装'}, page_content='git clone https://github.com/your-repo/your-project.git\\ncd your-project'),\n",
       " Document(metadata={'Header 1': '项目文档', 'Header 2': '简介', 'Header 3': '功能', 'Header 4': '安装'}, page_content='npm install\\n```'),\n",
       " Document(metadata={'Header 1': '项目文档', 'Header 2': '简介', 'Header 3': '功能', 'Header 4': '安装', 'Header 5': '使用'}, page_content='安装完成后，你可以使用以下命令启动项目：  \\n```bash\\nnpm start\\n```'),\n",
       " Document(metadata={'Header 1': '项目文档', 'Header 2': '简介', 'Header 3': '功能', 'Header 4': '安装', 'Header 5': '使用'}, page_content='启动后，打开浏览器并访问 `http://localhost:3000`。'),\n",
       " Document(metadata={'Header 1': '项目文档', 'Header 2': '简介', 'Header 3': '功能', 'Header 4': '安装', 'Header 5': '使用', 'Header 6': '贡献'}, page_content='我们欢迎任何形式的贡献。请阅读以下指南来了解如何贡献：  \\n1. Fork 此仓库'),\n",
       " Document(metadata={'Header 1': '项目文档', 'Header 2': '简介', 'Header 3': '功能', 'Header 4': '安装', 'Header 5': '使用', 'Header 6': '贡献'}, page_content='2. 创建你的分支 (`git checkout -b feature/your-feature`)'),\n",
       " Document(metadata={'Header 1': '项目文档', 'Header 2': '简介', 'Header 3': '功能', 'Header 4': '安装', 'Header 5': '使用', 'Header 6': '贡献'}, page_content=\"3. 提交你的更改 (`git commit -am 'Add some feature'`)\"),\n",
       " Document(metadata={'Header 1': '项目文档', 'Header 2': '简介', 'Header 3': '功能', 'Header 4': '安装', 'Header 5': '使用', 'Header 6': '贡献'}, page_content='4. Push 到分支 (`git push origin feature/your-feature`)\\n5. 创建一个新的 Pull Request'),\n",
       " Document(metadata={'Header 1': '项目文档', 'Header 2': '简介', 'Header 3': '功能', 'Header 4': '安装', 'Header 5': '使用', 'Header 6': '贡献'}, page_content='非常感谢你的贡献！  \\n```python\\ndef hello_world():\\nprint(\"Hello, world!\")'),\n",
       " Document(metadata={'Header 1': '项目文档', 'Header 2': '简介', 'Header 3': '功能', 'Header 4': '安装', 'Header 5': '使用', 'Header 6': '贡献'}, page_content='if __name__ == \"__main__\":\\nhello_world()\\n```'),\n",
       " Document(metadata={'Header 1': '项目文档', 'Header 2': '简介', 'Header 3': '功能', 'Header 4': '安装', 'Header 5': '使用', 'Header 6': '联系方式'}, page_content='如果你有任何问题或建议，请通过以下方式联系我们：  \\n- Email: support@example.com'),\n",
       " Document(metadata={'Header 1': '项目文档', 'Header 2': '简介', 'Header 3': '功能', 'Header 4': '安装', 'Header 5': '使用', 'Header 6': '联系方式'}, page_content='- GitHub Issues:'),\n",
       " Document(metadata={'Header 1': '项目文档', 'Header 2': '简介', 'Header 3': '功能', 'Header 4': '安装', 'Header 5': '使用', 'Header 6': '联系方式'}, page_content='[your-repo/issues](https://github.com/your-repo/your-project/issues)')]"
      ]
     },
     "execution_count": 15,
     "metadata": {},
     "output_type": "execute_result"
    }
   ],
   "source": [
    "from langchain_text_splitters import MarkdownHeaderTextSplitter\n",
    "from langchain_text_splitters import RecursiveCharacterTextSplitter\n",
    "\n",
    "with open(\"test.md\", \"r\", encoding=\"utf-8\") as file:\n",
    "    markdown_document = file.read()\n",
    "\n",
    "headers_to_split_on = [\n",
    "    (\"#\", \"Header 1\"),\n",
    "    (\"##\", \"Header 2\"),\n",
    "    (\"###\", \"Header 3\"),\n",
    "    (\"####\", \"Header 4\"),\n",
    "    (\"#####\", \"Header 5\"),\n",
    "    (\"######\", \"Header 6\"),\n",
    "]\n",
    "\n",
    "markdown_splitter = MarkdownHeaderTextSplitter(\n",
    "    headers_to_split_on=headers_to_split_on,\n",
    "    strip_headers=True,  # 是否把Header的内容剥离出去\n",
    ")\n",
    "markdown_splits = markdown_splitter.split_text(markdown_document)\n",
    "# markdown_splits\n",
    "\n",
    "print(markdown_splits)\n",
    "\n",
    "print(\"使用普通的文本切片\")\n",
    "\n",
    "# 在每个Markdown切片的结果，可以使用普通的文本切片器\n",
    "chunk_size = 80\n",
    "chunk_overlap = 0\n",
    "text_splitter = RecursiveCharacterTextSplitter(\n",
    "    chunk_size=chunk_size, chunk_overlap=chunk_overlap\n",
    ")\n",
    "\n",
    "splits = text_splitter.split_documents(markdown_splits)\n",
    "splits"
   ]
  }
 ],
 "metadata": {
  "kernelspec": {
   "display_name": ".venv",
   "language": "python",
   "name": "python3"
  },
  "language_info": {
   "codemirror_mode": {
    "name": "ipython",
    "version": 3
   },
   "file_extension": ".py",
   "mimetype": "text/x-python",
   "name": "python",
   "nbconvert_exporter": "python",
   "pygments_lexer": "ipython3",
   "version": "3.12.4"
  }
 },
 "nbformat": 4,
 "nbformat_minor": 2
}
