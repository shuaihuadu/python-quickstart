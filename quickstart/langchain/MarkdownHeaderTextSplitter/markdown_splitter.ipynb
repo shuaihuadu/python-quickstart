{
 "cells": [
  {
   "cell_type": "code",
   "execution_count": 5,
   "metadata": {},
   "outputs": [],
   "source": [
    "import sys\n",
    "import os\n",
    "from markdown_splitter import split_markdown\n",
    "from markdown_splitter import split_content\n",
    "\n",
    "filenames = [\"test\", \"no_heading\", \"book_26\", \"book_183\", \"level1_heading\"]\n",
    "\n",
    "# 保存当前 stdout\n",
    "original_stdout = sys.stdout\n",
    "\n",
    "for filename in filenames:\n",
    "    if not os.path.exists(\"output\"):\n",
    "        os.makedirs(\"output\")\n",
    "\n",
    "    md_split_output_file_path = os.path.join(\"output\", filename + \".txt\")\n",
    "    content_split_output_file_path = os.path.join(\"output\", filename + \"_content.txt\")\n",
    "\n",
    "    md_filename = os.path.join(\"docs\", filename + \".md\")\n",
    "\n",
    "    markdown_splits = split_markdown(md_filename)\n",
    "\n",
    "    # 将解析的结果写入TXT文件\n",
    "    with open(md_split_output_file_path, \"w\", encoding=\"utf-8\") as file:\n",
    "        for section in markdown_splits:\n",
    "            sys.stdout = file\n",
    "            print(section.metadata)\n",
    "            print(section.page_content)\n",
    "\n",
    "            print(\n",
    "                \"==========================================================================================================================================================\"\n",
    "            )\n",
    "\n",
    "    content_splits = split_content(markdown_splits)\n",
    "\n",
    "    with open(content_split_output_file_path, \"w\", encoding=\"utf-8\") as file:\n",
    "        for content_split in content_splits:\n",
    "            sys.stdout = file\n",
    "            print(content_split.metadata)\n",
    "            print(content_split.page_content)\n",
    "\n",
    "            print(\n",
    "                \"==========================================================================================================================================================\"\n",
    "            )\n",
    "\n",
    "sys.stdout = original_stdout"
   ]
  }
 ],
 "metadata": {
  "kernelspec": {
   "display_name": ".venv",
   "language": "python",
   "name": "python3"
  },
  "language_info": {
   "codemirror_mode": {
    "name": "ipython",
    "version": 3
   },
   "file_extension": ".py",
   "mimetype": "text/x-python",
   "name": "python",
   "nbconvert_exporter": "python",
   "pygments_lexer": "ipython3",
   "version": "3.12.4"
  }
 },
 "nbformat": 4,
 "nbformat_minor": 2
}
