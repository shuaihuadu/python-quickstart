{
 "cells": [
  {
   "cell_type": "code",
   "execution_count": 7,
   "metadata": {},
   "outputs": [
    {
     "name": "stdout",
     "output_type": "stream",
     "text": [
      "Full Mode:麦/辣/鸡腿/堡\n",
      "Default Mode:麦辣/鸡腿/堡\n"
     ]
    }
   ],
   "source": [
    "import jieba\n",
    "\n",
    "seg_list = jieba.cut(\"麦辣鸡腿堡\", cut_all=True)\n",
    "\n",
    "print(\"Full Mode:\" + \"/\".join(seg_list))\n",
    "\n",
    "seg_list = jieba.cut(\"麦辣鸡腿堡\", cut_all=False)\n",
    "\n",
    "print(\"Default Mode:\" + \"/\".join(seg_list))"
   ]
  }
 ],
 "metadata": {
  "kernelspec": {
   "display_name": ".venv",
   "language": "python",
   "name": "python3"
  },
  "language_info": {
   "codemirror_mode": {
    "name": "ipython",
    "version": 3
   },
   "file_extension": ".py",
   "mimetype": "text/x-python",
   "name": "python",
   "nbconvert_exporter": "python",
   "pygments_lexer": "ipython3",
   "version": "3.12.4"
  }
 },
 "nbformat": 4,
 "nbformat_minor": 2
}
